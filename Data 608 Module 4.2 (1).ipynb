{
 "cells": [
  {
   "cell_type": "markdown",
   "id": "a833dc17",
   "metadata": {},
   "source": [
    "In this module we’ll be looking at data from the New York City tree census:\n",
    "https://data.cityofnewyork.us/Environment/2015-Street-Tree-Census-Tree-Data/uvpi-gqnh\n",
    "This data is collected by volunteers across the city, and is meant to catalog information about every single tree in the city.\n",
    "Build a dash app for a arborist studying the health of various tree species (as defined by the variable ‘spc_common’) across each borough (defined by the variable ‘borough’). This arborist would like to answer the following two questions for each species and in each borough:\n",
    "What proportion of trees are in good, fair, or poor health according to the ‘health’ variable ?\n",
    "Are stewards (steward activity measured by the ‘steward’ variable) having an impact on the health of trees?"
   ]
  },
  {
   "cell_type": "code",
   "execution_count": 42,
   "id": "5e1aa176",
   "metadata": {},
   "outputs": [
    {
     "name": "stderr",
     "output_type": "stream",
     "text": [
      "C:\\Users\\malia\\Anaconda3\\lib\\site-packages\\pandas\\core\\series.py:4469: SettingWithCopyWarning:\n",
      "\n",
      "\n",
      "A value is trying to be set on a copy of a slice from a DataFrame\n",
      "\n",
      "See the caveats in the documentation: https://pandas.pydata.org/pandas-docs/stable/user_guide/indexing.html#returning-a-view-versus-a-copy\n",
      "\n",
      "C:\\Users\\malia\\Anaconda3\\lib\\site-packages\\ipykernel_launcher.py:20: SettingWithCopyWarning:\n",
      "\n",
      "\n",
      "A value is trying to be set on a copy of a slice from a DataFrame.\n",
      "Try using .loc[row_indexer,col_indexer] = value instead\n",
      "\n",
      "See the caveats in the documentation: https://pandas.pydata.org/pandas-docs/stable/user_guide/indexing.html#returning-a-view-versus-a-copy\n",
      "\n"
     ]
    }
   ],
   "source": [
    "#Are stewards (steward activity measured by the ‘steward’ variable) having an impact on the health of trees?\n",
    "import pandas as pd\n",
    "import numpy as np\n",
    "import pandas as pd\n",
    "import numpy as np\n",
    "import json\n",
    "import plotly.offline as py\n",
    "import plotly.graph_objs as go\n",
    "from plotly import tools\n",
    "import dash\n",
    "import dash_core_components as dcc\n",
    "import dash_html_components as html\n",
    "\n",
    "url = 'https://data.cityofnewyork.us/resource/nwxe-4ae8.json'\n",
    "trees = pd.read_json(url)\n",
    "trees2 = trees[['spc_common','status','boroname']]\n",
    "trees2['spc_common'].fillna('Unknown',inplace = True)\n",
    "\n",
    "#column to specify tree status\n",
    "for status in set(trees2['status']):\n",
    "    trees2[status] = np.where(trees2['status']==status,1,0)\n",
    "    \n",
    "trees2 = pd.DataFrame(trees2.groupby(['boroname','spc_common']).sum())\n",
    "trees2.head()\n",
    "\n",
    "#find out boroughs\n",
    "boroughs = list(set(trees['boroname']))\n",
    "\n",
    "trace_list_q2 =[]\n"
   ]
  },
  {
   "cell_type": "code",
   "execution_count": 43,
   "id": "bcf4a4bf",
   "metadata": {},
   "outputs": [
    {
     "name": "stderr",
     "output_type": "stream",
     "text": [
      "C:\\Users\\malia\\Anaconda3\\lib\\site-packages\\ipykernel_launcher.py:3: SettingWithCopyWarning:\n",
      "\n",
      "\n",
      "A value is trying to be set on a copy of a slice from a DataFrame\n",
      "\n",
      "See the caveats in the documentation: https://pandas.pydata.org/pandas-docs/stable/user_guide/indexing.html#returning-a-view-versus-a-copy\n",
      "\n"
     ]
    }
   ],
   "source": [
    "trees1 = trees[['spc_common','health','boroname']]\n",
    "trees1['spc_common'].fillna('Unknown',inplace = True)\n",
    "trees1.dropna(inplace = True)"
   ]
  },
  {
   "cell_type": "code",
   "execution_count": 44,
   "id": "6d0fe3b6",
   "metadata": {},
   "outputs": [
    {
     "name": "stdout",
     "output_type": "stream",
     "text": [
      "['Poor', 'Good', 'Fair']\n"
     ]
    }
   ],
   "source": [
    "#Health Conditions\n",
    "\n",
    "Health_status = list(set(trees1['health']))\n",
    "print(Health_status)\n",
    "colors = ['rgb(49,130,189)','rgb(204,204,204)','rgba(222,45,38,0.8)']\n",
    "      \n"
   ]
  },
  {
   "cell_type": "code",
   "execution_count": 45,
   "id": "d5f3803f",
   "metadata": {},
   "outputs": [
    {
     "name": "stderr",
     "output_type": "stream",
     "text": [
      "C:\\Users\\malia\\Anaconda3\\lib\\site-packages\\ipykernel_launcher.py:3: SettingWithCopyWarning:\n",
      "\n",
      "\n",
      "A value is trying to be set on a copy of a slice from a DataFrame.\n",
      "Try using .loc[row_indexer,col_indexer] = value instead\n",
      "\n",
      "See the caveats in the documentation: https://pandas.pydata.org/pandas-docs/stable/user_guide/indexing.html#returning-a-view-versus-a-copy\n",
      "\n"
     ]
    },
    {
     "data": {
      "text/html": [
       "<div>\n",
       "<style scoped>\n",
       "    .dataframe tbody tr th:only-of-type {\n",
       "        vertical-align: middle;\n",
       "    }\n",
       "\n",
       "    .dataframe tbody tr th {\n",
       "        vertical-align: top;\n",
       "    }\n",
       "\n",
       "    .dataframe thead th {\n",
       "        text-align: right;\n",
       "    }\n",
       "</style>\n",
       "<table border=\"1\" class=\"dataframe\">\n",
       "  <thead>\n",
       "    <tr style=\"text-align: right;\">\n",
       "      <th></th>\n",
       "      <th></th>\n",
       "      <th>Poor</th>\n",
       "      <th>Good</th>\n",
       "      <th>Fair</th>\n",
       "      <th>total</th>\n",
       "    </tr>\n",
       "    <tr>\n",
       "      <th>boroname</th>\n",
       "      <th>spc_common</th>\n",
       "      <th></th>\n",
       "      <th></th>\n",
       "      <th></th>\n",
       "      <th></th>\n",
       "    </tr>\n",
       "  </thead>\n",
       "  <tbody>\n",
       "    <tr>\n",
       "      <th rowspan=\"5\" valign=\"top\">Bronx</th>\n",
       "      <th>American elm</th>\n",
       "      <td>50.0</td>\n",
       "      <td>50.0</td>\n",
       "      <td>0.0</td>\n",
       "      <td>100.0</td>\n",
       "    </tr>\n",
       "    <tr>\n",
       "      <th>Atlantic white cedar</th>\n",
       "      <td>0.0</td>\n",
       "      <td>100.0</td>\n",
       "      <td>0.0</td>\n",
       "      <td>100.0</td>\n",
       "    </tr>\n",
       "    <tr>\n",
       "      <th>Callery pear</th>\n",
       "      <td>0.0</td>\n",
       "      <td>100.0</td>\n",
       "      <td>0.0</td>\n",
       "      <td>100.0</td>\n",
       "    </tr>\n",
       "    <tr>\n",
       "      <th>Douglas-fir</th>\n",
       "      <td>0.0</td>\n",
       "      <td>100.0</td>\n",
       "      <td>0.0</td>\n",
       "      <td>100.0</td>\n",
       "    </tr>\n",
       "    <tr>\n",
       "      <th>Japanese zelkova</th>\n",
       "      <td>0.0</td>\n",
       "      <td>100.0</td>\n",
       "      <td>0.0</td>\n",
       "      <td>100.0</td>\n",
       "    </tr>\n",
       "  </tbody>\n",
       "</table>\n",
       "</div>"
      ],
      "text/plain": [
       "                               Poor   Good  Fair  total\n",
       "boroname spc_common                                    \n",
       "Bronx    American elm          50.0   50.0   0.0  100.0\n",
       "         Atlantic white cedar   0.0  100.0   0.0  100.0\n",
       "         Callery pear           0.0  100.0   0.0  100.0\n",
       "         Douglas-fir            0.0  100.0   0.0  100.0\n",
       "         Japanese zelkova       0.0  100.0   0.0  100.0"
      ]
     },
     "execution_count": 45,
     "metadata": {},
     "output_type": "execute_result"
    }
   ],
   "source": [
    "#create columns that specify tree health conditions\n",
    "for status in set(trees1['health']):\n",
    "    trees1[status] = np.where(trees1['health']==status,1,0)\n",
    "    \n",
    "trees1 = pd.DataFrame(trees1.groupby(['boroname','spc_common']).sum())  \n",
    "                                      \n",
    "                                      #boroughs\n",
    "boroughs = list(set(trees['boroname']))\n",
    "\n",
    "trees1['total'] = trees1.sum(axis=1)\n",
    "for column in list(trees1.columns):\n",
    "    trees1[column] = (trees1[column]/trees1['total'])*100\n",
    "trees1.head()"
   ]
  },
  {
   "cell_type": "code",
   "execution_count": null,
   "id": "c61a207f",
   "metadata": {},
   "outputs": [],
   "source": []
  },
  {
   "cell_type": "code",
   "execution_count": 53,
   "id": "5f3146b6",
   "metadata": {},
   "outputs": [
    {
     "name": "stderr",
     "output_type": "stream",
     "text": [
      "C:\\Users\\malia\\Anaconda3\\lib\\site-packages\\pandas\\core\\series.py:4469: SettingWithCopyWarning:\n",
      "\n",
      "\n",
      "A value is trying to be set on a copy of a slice from a DataFrame\n",
      "\n",
      "See the caveats in the documentation: https://pandas.pydata.org/pandas-docs/stable/user_guide/indexing.html#returning-a-view-versus-a-copy\n",
      "\n",
      "C:\\Users\\malia\\Anaconda3\\lib\\site-packages\\ipykernel_launcher.py:7: SettingWithCopyWarning:\n",
      "\n",
      "\n",
      "A value is trying to be set on a copy of a slice from a DataFrame\n",
      "\n",
      "See the caveats in the documentation: https://pandas.pydata.org/pandas-docs/stable/user_guide/indexing.html#returning-a-view-versus-a-copy\n",
      "\n",
      "C:\\Users\\malia\\Anaconda3\\lib\\site-packages\\pandas\\core\\frame.py:3191: SettingWithCopyWarning:\n",
      "\n",
      "\n",
      "A value is trying to be set on a copy of a slice from a DataFrame.\n",
      "Try using .loc[row_indexer,col_indexer] = value instead\n",
      "\n",
      "See the caveats in the documentation: https://pandas.pydata.org/pandas-docs/stable/user_guide/indexing.html#returning-a-view-versus-a-copy\n",
      "\n",
      "C:\\Users\\malia\\Anaconda3\\lib\\site-packages\\plotly\\tools.py:465: DeprecationWarning:\n",
      "\n",
      "plotly.tools.make_subplots is deprecated, please use plotly.subplots.make_subplots instead\n",
      "\n"
     ]
    },
    {
     "data": {
      "text/plain": [
       "Layout({\n",
       "    'annotations': [{'font': {'size': 16},\n",
       "                     'showarrow': False,\n",
       "                     'text': 'Manhattan',\n",
       "                     'x': 0.08399999999999999,\n",
       "                     'xanchor': 'center',\n",
       "                     'xref': 'paper',\n",
       "                     'y': 1.0,\n",
       "                     'yanchor': 'bottom',\n",
       "                     'yref': 'paper'},\n",
       "                    {'font': {'size': 16},\n",
       "                     'showarrow': False,\n",
       "                     'text': 'Brooklyn',\n",
       "                     'x': 0.292,\n",
       "                     'xanchor': 'center',\n",
       "                     'xref': 'paper',\n",
       "                     'y': 1.0,\n",
       "                     'yanchor': 'bottom',\n",
       "                     'yref': 'paper'},\n",
       "                    {'font': {'size': 16},\n",
       "                     'showarrow': False,\n",
       "                     'text': 'Queens',\n",
       "                     'x': 0.5,\n",
       "                     'xanchor': 'center',\n",
       "                     'xref': 'paper',\n",
       "                     'y': 1.0,\n",
       "                     'yanchor': 'bottom',\n",
       "                     'yref': 'paper'},\n",
       "                    {'font': {'size': 16},\n",
       "                     'showarrow': False,\n",
       "                     'text': 'Staten Island',\n",
       "                     'x': 0.708,\n",
       "                     'xanchor': 'center',\n",
       "                     'xref': 'paper',\n",
       "                     'y': 1.0,\n",
       "                     'yanchor': 'bottom',\n",
       "                     'yref': 'paper'},\n",
       "                    {'font': {'size': 16},\n",
       "                     'showarrow': False,\n",
       "                     'text': 'Bronx',\n",
       "                     'x': 0.9159999999999999,\n",
       "                     'xanchor': 'center',\n",
       "                     'xref': 'paper',\n",
       "                     'y': 1.0,\n",
       "                     'yanchor': 'bottom',\n",
       "                     'yref': 'paper'}],\n",
       "    'height': 500,\n",
       "    'showlegend': False,\n",
       "    'template': '...',\n",
       "    'title': {'text': 'Proportion of Trees in Good, Fair and Poor Conditions'},\n",
       "    'width': 1400,\n",
       "    'xaxis': {'anchor': 'y', 'domain': [0.0, 0.16799999999999998]},\n",
       "    'xaxis2': {'anchor': 'y2', 'domain': [0.208, 0.376]},\n",
       "    'xaxis3': {'anchor': 'y3', 'domain': [0.416, 0.584]},\n",
       "    'xaxis4': {'anchor': 'y4', 'domain': [0.624, 0.792]},\n",
       "    'xaxis5': {'anchor': 'y5', 'domain': [0.832, 1.0]},\n",
       "    'yaxis': {'anchor': 'x', 'domain': [0.0, 1.0]},\n",
       "    'yaxis2': {'anchor': 'x2', 'domain': [0.0, 1.0]},\n",
       "    'yaxis3': {'anchor': 'x3', 'domain': [0.0, 1.0]},\n",
       "    'yaxis4': {'anchor': 'x4', 'domain': [0.0, 1.0]},\n",
       "    'yaxis5': {'anchor': 'x5', 'domain': [0.0, 1.0]}\n",
       "})"
      ]
     },
     "execution_count": 53,
     "metadata": {},
     "output_type": "execute_result"
    }
   ],
   "source": [
    "#Plot\n",
    "borough_list = list(map(lambda x: str(x), boroughs))\n",
    "\n",
    "trees2 = trees[['spc_common','health','boroname','steward']]\n",
    "\n",
    "trees2['spc_common'].fillna('Unknown',inplace = True)\n",
    "trees2.dropna(inplace = True)\n",
    "trees2[['steward','health']] = trees2[['steward','health']].apply(lambda x : pd.factorize(x)[0])\n",
    "trees2_cor = pd.DataFrame(trees2.groupby(['boroname','spc_common']).corr())\n",
    "fig2 = tools.make_subplots(rows=1, cols=len(boroughs), subplot_titles=tuple(borough_list))\n",
    "\n",
    "\n",
    "\n",
    "boroughs = list(set(trees2['boroname']))\n",
    "plants = list(set(trees2['spc_common']))\n",
    "\n",
    "for borough in boroughs:\n",
    "    trace = go.Bar(\n",
    "            x = list(trees1.loc[borough].index),\n",
    "            y = list(trees2_cor.loc[borough]['steward'][::2])\n",
    "            )\n",
    "    trace_list_q2 += [trace]\n",
    "\n",
    "for i in range(len(boroughs)):\n",
    "    fig2.append_trace(trace_list_q2[i], 1, i+1) \n",
    "\n",
    "\n",
    "        \n",
    "fig2['layout'].update(showlegend=False,height=500, width=1400, title='Proportion of Trees in Good, Fair and Poor Conditions')\n"
   ]
  },
  {
   "cell_type": "code",
   "execution_count": 54,
   "id": "414b7947",
   "metadata": {},
   "outputs": [
    {
     "name": "stdout",
     "output_type": "stream",
     "text": [
      "Dash is running on http://127.0.0.1:8050/\n",
      "\n",
      "Dash is running on http://127.0.0.1:8050/\n",
      "\n",
      "Dash is running on http://127.0.0.1:8050/\n",
      "\n",
      "Dash is running on http://127.0.0.1:8050/\n",
      "\n",
      "Dash is running on http://127.0.0.1:8050/\n",
      "\n",
      "Dash is running on http://127.0.0.1:8050/\n",
      "\n",
      "Dash is running on http://127.0.0.1:8050/\n",
      "\n",
      "Dash is running on http://127.0.0.1:8050/\n",
      "\n",
      " * Serving Flask app \"__main__\" (lazy loading)\n",
      " * Environment: production\n",
      "   WARNING: This is a development server. Do not use it in a production deployment.\n",
      "   Use a production WSGI server instead.\n",
      " * Debug mode: on\n"
     ]
    }
   ],
   "source": [
    "app = dash.Dash()\n",
    "\n",
    "colors = {\n",
    "    'background': '#ffffff',\n",
    "    'text': 'black'\n",
    "}\n",
    "\n",
    "\n",
    "\n",
    "app.layout = html.Div(style={'backgroundColor': colors['background']}, children=[\n",
    "    html.H1(\n",
    "        children='Problem 2',\n",
    "        style={\n",
    "            'textAlign': 'center',\n",
    "            'color': colors['text']\n",
    "        }\n",
    "    ),\n",
    "    html.Div(children='Correlation between stewards and health of trees', style={\n",
    "        'textAlign': 'center',\n",
    "        'color': colors['text']\n",
    "    }),\n",
    "    \n",
    "    html.Div([\n",
    "        dcc.Graph(figure=fig2, id='my-figure2')\n",
    "])\n",
    "    ])\n",
    "\n",
    "\n",
    "\n",
    "if __name__ == \"__main__\":\n",
    "    app.run_server(debug=True, use_reloader=False)\n"
   ]
  },
  {
   "cell_type": "markdown",
   "id": "fdaeeff3",
   "metadata": {},
   "source": []
  },
  {
   "cell_type": "markdown",
   "id": "ac877e5e",
   "metadata": {},
   "source": [
    "### Dash App"
   ]
  },
  {
   "cell_type": "markdown",
   "id": "8cad55eb",
   "metadata": {},
   "source": [
    "http://127.0.0.1:8050/"
   ]
  },
  {
   "cell_type": "code",
   "execution_count": null,
   "id": "baed5d25",
   "metadata": {},
   "outputs": [],
   "source": []
  }
 ],
 "metadata": {
  "kernelspec": {
   "display_name": "Python 3",
   "language": "python",
   "name": "python3"
  },
  "language_info": {
   "codemirror_mode": {
    "name": "ipython",
    "version": 3
   },
   "file_extension": ".py",
   "mimetype": "text/x-python",
   "name": "python",
   "nbconvert_exporter": "python",
   "pygments_lexer": "ipython3",
   "version": "3.7.10"
  }
 },
 "nbformat": 4,
 "nbformat_minor": 5
}
